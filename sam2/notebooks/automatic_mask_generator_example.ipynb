version https://git-lfs.github.com/spec/v1
oid sha256:ba060f878dab3894e8b900ede6529a8cddc104ff8ec839102d1bbe0fc83d2dec
size 7858688
