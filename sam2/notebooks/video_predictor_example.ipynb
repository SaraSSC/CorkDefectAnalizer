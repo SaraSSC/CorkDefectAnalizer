version https://git-lfs.github.com/spec/v1
oid sha256:3039e8d09c0f53b47f66bd632f30c1c4f9bb55770e1ba4f95bfa781fbb609404
size 10092808
